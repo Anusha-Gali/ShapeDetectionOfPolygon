{
 "cells": [
  {
   "cell_type": "code",
   "execution_count": 1,
   "metadata": {},
   "outputs": [],
   "source": [
    "# import the necessary packages\n",
    "import cv2\n",
    "import nbimporter\n",
    " \n",
    "class PolygonDetector:\n",
    "    def __init__(self):\n",
    "        pass\n",
    " \n",
    "    def detect(self, c):\n",
    "        # initialize the shape name and approximate the contour\n",
    "        polygon = \"unidentified\"\n",
    "        peri = cv2.arcLength(c, True)\n",
    "        approx = cv2.approxPolyDP(c, 0.04 * peri, True)\n",
    "        # if the polygon is a triangle, then it has 3 vertices\n",
    "        if len(approx) == 3:\n",
    "            polygon = \"triangle\"\n",
    "\n",
    "        # if the polygon has 4 vertices, it is either a square or a rectangle\n",
    "        elif len(approx) == 4:\n",
    "            (x, y, w, h) = cv2.boundingRect(approx)\n",
    "            ar = w / float(h)\n",
    "            polygon = \"square\" if ar >= 0.95 and ar <= 1.05 else \"rectangle\"\n",
    "\n",
    "        # if the polygon is a pentagon, it will has 5 vertices\n",
    "        elif len(approx) == 5:\n",
    "            polygon = \"pentagon\"\n",
    "\n",
    "        # otherwise, we assume the polygon is a circle\n",
    "        else:\n",
    "            polygon = \"circle\"\n",
    "        return polygon"
   ]
  },
  {
   "cell_type": "code",
   "execution_count": null,
   "metadata": {},
   "outputs": [],
   "source": []
  }
 ],
 "metadata": {
  "kernelspec": {
   "display_name": "Python 3",
   "language": "python",
   "name": "python3"
  },
  "language_info": {
   "codemirror_mode": {
    "name": "ipython",
    "version": 3
   },
   "file_extension": ".py",
   "mimetype": "text/x-python",
   "name": "python",
   "nbconvert_exporter": "python",
   "pygments_lexer": "ipython3",
   "version": "3.6.5"
  }
 },
 "nbformat": 4,
 "nbformat_minor": 2
}
